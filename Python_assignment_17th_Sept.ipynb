{
 "cells": [
  {
   "cell_type": "markdown",
   "id": "142be65d",
   "metadata": {},
   "source": [
    "Question 1 :- Write a Python program to print numbers from 1 to 10 using a for loop."
   ]
  },
  {
   "cell_type": "code",
   "execution_count": 2,
   "id": "59e41108",
   "metadata": {},
   "outputs": [
    {
     "name": "stdout",
     "output_type": "stream",
     "text": [
      "1\n",
      "2\n",
      "3\n",
      "4\n",
      "5\n",
      "6\n",
      "7\n",
      "8\n",
      "9\n",
      "10\n"
     ]
    }
   ],
   "source": [
    "for i in range(1, 11):\n",
    "    print(i)"
   ]
  },
  {
   "cell_type": "markdown",
   "id": "c850d8f3",
   "metadata": {},
   "source": [
    "Question 2 :- Explain the difference between a for loop and a while loop in Python."
   ]
  },
  {
   "cell_type": "markdown",
   "id": "73cf8ddd",
   "metadata": {},
   "source": [
    "In Python both for loops and while loops are used for iteration, but they have different structures and use cases. if we know the number of iterations in advance and have a sequence or iterable to work with, a for loop is often more convenient. On the other hand, if we need more dynamic control over when to stop iterating, a while loop can be the better choice. When using while loops to avoid unintentional infinite loops, and make sure you update your control variable correctly to exit the loop when needed. I have added example for both syntax"
   ]
  },
  {
   "cell_type": "code",
   "execution_count": 5,
   "id": "59cd4d5e",
   "metadata": {},
   "outputs": [
    {
     "name": "stdout",
     "output_type": "stream",
     "text": [
      "1\n",
      "2\n",
      "3\n",
      "4\n",
      "5\n",
      "6\n",
      "7\n",
      "8\n",
      "9\n",
      "10\n",
      "1\n",
      "2\n",
      "3\n",
      "4\n",
      "5\n",
      "6\n",
      "7\n",
      "8\n",
      "9\n",
      "10\n"
     ]
    }
   ],
   "source": [
    "for i in range(1, 11):\n",
    "    print(i)\n",
    "    \n",
    "i = 1\n",
    "while i <= 10:\n",
    "    print(i)\n",
    "    i += 1"
   ]
  },
  {
   "cell_type": "markdown",
   "id": "b08a703c",
   "metadata": {},
   "source": [
    "Question 3 :- Write a Python program to calculate the sum of all numbers from 1 to 100 using a for loop."
   ]
  },
  {
   "cell_type": "code",
   "execution_count": 9,
   "id": "3532e91b",
   "metadata": {},
   "outputs": [
    {
     "name": "stdout",
     "output_type": "stream",
     "text": [
      "Sum of all number from 1 to 100 are 5050\n"
     ]
    }
   ],
   "source": [
    "sum = 0\n",
    "for i in range(1, 101):\n",
    "    sum += i\n",
    "    \n",
    "print(\"Sum of all number from 1 to 100 are\", sum)"
   ]
  },
  {
   "cell_type": "markdown",
   "id": "ed9a012d",
   "metadata": {},
   "source": [
    "Question 4 :- How do you iterate through a list using a for loop in Python?"
   ]
  },
  {
   "cell_type": "code",
   "execution_count": 11,
   "id": "f2c66a9f",
   "metadata": {},
   "outputs": [
    {
     "name": "stdout",
     "output_type": "stream",
     "text": [
      "1\n",
      "2\n",
      "3\n",
      "4\n",
      "5\n"
     ]
    }
   ],
   "source": [
    "number = [1,2,3,4,5]\n",
    "for num in number:\n",
    "    print(num)"
   ]
  },
  {
   "cell_type": "markdown",
   "id": "5a388142",
   "metadata": {},
   "source": [
    "Question 5 :- Write a Python program to find the product of all elements in a list using a for loop."
   ]
  },
  {
   "cell_type": "code",
   "execution_count": 14,
   "id": "3db59173",
   "metadata": {},
   "outputs": [
    {
     "name": "stdout",
     "output_type": "stream",
     "text": [
      "Product of number in list 120\n"
     ]
    }
   ],
   "source": [
    "numbers = [1,2,3,4,5]\n",
    "prod = 1\n",
    "for num in numbers:\n",
    "    prod *= num\n",
    "    \n",
    "print(\"Product of number in list\", prod)"
   ]
  },
  {
   "cell_type": "markdown",
   "id": "c35a135f",
   "metadata": {},
   "source": [
    "Question 6 :- Create a Python program that prints all even numbers from 1 to 20 using a for loop."
   ]
  },
  {
   "cell_type": "code",
   "execution_count": 15,
   "id": "494d0e6f",
   "metadata": {},
   "outputs": [
    {
     "name": "stdout",
     "output_type": "stream",
     "text": [
      "2\n",
      "4\n",
      "6\n",
      "8\n",
      "10\n",
      "12\n",
      "14\n",
      "16\n",
      "18\n",
      "20\n"
     ]
    }
   ],
   "source": [
    "for i in range(1, 21):\n",
    "    if(i%2 == 0):\n",
    "        print(i)"
   ]
  },
  {
   "cell_type": "markdown",
   "id": "d83bbba1",
   "metadata": {},
   "source": [
    "Question 7 :- Write a Python program that calculates the factorial of a number using a for loop."
   ]
  },
  {
   "cell_type": "code",
   "execution_count": 16,
   "id": "22e798d8",
   "metadata": {},
   "outputs": [
    {
     "name": "stdout",
     "output_type": "stream",
     "text": [
      "Enter a number: 5\n",
      "The factorial of 5 is 120\n"
     ]
    }
   ],
   "source": [
    "number = int(input(\"Enter a number: \"))\n",
    "\n",
    "factorial = 1\n",
    "\n",
    "for i in range(1, number + 1):\n",
    "    factorial *= i\n",
    "\n",
    "print(f\"The factorial of {number} is {factorial}\")"
   ]
  },
  {
   "cell_type": "markdown",
   "id": "02637b51",
   "metadata": {},
   "source": [
    "Question 8 :- How can you iterate through the characters of a string using a for loop in Python?"
   ]
  },
  {
   "cell_type": "code",
   "execution_count": 17,
   "id": "efd00340",
   "metadata": {},
   "outputs": [
    {
     "name": "stdout",
     "output_type": "stream",
     "text": [
      "H\n",
      "e\n",
      "l\n",
      "l\n",
      "o\n",
      ",\n",
      " \n",
      "W\n",
      "o\n",
      "r\n",
      "l\n",
      "d\n",
      "!\n"
     ]
    }
   ],
   "source": [
    "my_string = \"Hello, World!\"\n",
    "\n",
    "for char in my_string:\n",
    "    print(char)"
   ]
  },
  {
   "cell_type": "markdown",
   "id": "38acf0b3",
   "metadata": {},
   "source": [
    "Question 9 :- Write a Python program to find the largest number in a list using a for loop."
   ]
  },
  {
   "cell_type": "code",
   "execution_count": 18,
   "id": "2cbe3833",
   "metadata": {},
   "outputs": [
    {
     "name": "stdout",
     "output_type": "stream",
     "text": [
      "Largest number in the list is  89\n"
     ]
    }
   ],
   "source": [
    "numbers = [23, 45, 67, 12, 89, 54, 32]\n",
    "largest = numbers[0]\n",
    "\n",
    "for number in numbers:\n",
    "    if number > largest:\n",
    "        largest = number\n",
    "        \n",
    "print(\"Largest number in the list is \", largest)"
   ]
  },
  {
   "cell_type": "markdown",
   "id": "fa538383",
   "metadata": {},
   "source": [
    "Question 10 :- Create a Python program that prints the Fibonacci sequence up to a specified limit using a for loop."
   ]
  },
  {
   "cell_type": "code",
   "execution_count": 19,
   "id": "e1a86817",
   "metadata": {},
   "outputs": [
    {
     "name": "stdout",
     "output_type": "stream",
     "text": [
      "Enter the limit for the Fibonacci sequence: 6\n",
      "Fibonacci sequence up to 6 :\n",
      "0 1 1 2 3 5 "
     ]
    }
   ],
   "source": [
    "limit = int(input(\"Enter the limit for the Fibonacci sequence: \"))\n",
    "\n",
    "fibonacci_sequence = [0, 1]\n",
    "\n",
    "for i in range(2, limit):\n",
    "    next_number = fibonacci_sequence[i - 1] + fibonacci_sequence[i - 2]\n",
    "    if next_number > limit:\n",
    "        break\n",
    "    fibonacci_sequence.append(next_number)\n",
    "\n",
    "print(\"Fibonacci sequence up to\", limit, \":\")\n",
    "for number in fibonacci_sequence:\n",
    "    print(number, end=\" \")"
   ]
  },
  {
   "cell_type": "markdown",
   "id": "c4b1eb29",
   "metadata": {},
   "source": [
    "Question 11 :- Write a Python program to count the number of vowels in a given string using a for loop."
   ]
  },
  {
   "cell_type": "code",
   "execution_count": 20,
   "id": "b504b5cb",
   "metadata": {},
   "outputs": [
    {
     "name": "stdout",
     "output_type": "stream",
     "text": [
      "Enter a string: hello welcome to the data science\n",
      "Number of vowels are present  12\n"
     ]
    }
   ],
   "source": [
    "input_string = input(\"Enter a string: \")\n",
    "\n",
    "input_string = input_string.lower()\n",
    "\n",
    "vowel_count = 0\n",
    "\n",
    "vowels = \"aeiou\"\n",
    "\n",
    "for i in input_string:\n",
    "    if i in vowels:\n",
    "        vowel_count += 1\n",
    "        \n",
    "print(\"Number of vowels are present \", vowel_count)"
   ]
  },
  {
   "cell_type": "markdown",
   "id": "34b590b9",
   "metadata": {},
   "source": [
    "Question 12 :- Create a Python program that generates a multiplication table for a given number using a for loop."
   ]
  },
  {
   "cell_type": "code",
   "execution_count": 22,
   "id": "d0b402bd",
   "metadata": {},
   "outputs": [
    {
     "name": "stdout",
     "output_type": "stream",
     "text": [
      "Enter the number2\n",
      "Enter the term of multiplication table10\n",
      "2 * 1 = 2\n",
      "2 * 2 = 4\n",
      "2 * 3 = 6\n",
      "2 * 4 = 8\n",
      "2 * 5 = 10\n",
      "2 * 6 = 12\n",
      "2 * 7 = 14\n",
      "2 * 8 = 16\n",
      "2 * 9 = 18\n",
      "2 * 10 = 20\n"
     ]
    }
   ],
   "source": [
    "number = int(input(\"Enter the number\"))\n",
    "number_term = int(input(\"Enter the term of multiplication table\"))\n",
    "\n",
    "for num in range(1, number_term + 1):\n",
    "    result = number * num\n",
    "    print(f\"{number} * {num} = {result}\")"
   ]
  },
  {
   "cell_type": "markdown",
   "id": "56e15766",
   "metadata": {},
   "source": [
    "Question 13 :- Write a Python program to reverse a list using a for loop."
   ]
  },
  {
   "cell_type": "code",
   "execution_count": 23,
   "id": "5b6e9348",
   "metadata": {},
   "outputs": [
    {
     "name": "stdout",
     "output_type": "stream",
     "text": [
      "[5, 4, 3, 2, 1]\n"
     ]
    }
   ],
   "source": [
    "list = [1,2,3,4,5]\n",
    "reversed_list = []\n",
    "for i in list:\n",
    "    reversed_list.insert(0, i)\n",
    "    \n",
    "print(reversed_list)"
   ]
  },
  {
   "cell_type": "markdown",
   "id": "c7e2fa7a",
   "metadata": {},
   "source": [
    "Question 14 :- Write a Python program to find the common elements between two lists using a for loop."
   ]
  },
  {
   "cell_type": "code",
   "execution_count": 26,
   "id": "eff0f5ec",
   "metadata": {},
   "outputs": [
    {
     "name": "stdout",
     "output_type": "stream",
     "text": [
      "[3, 4, 5]\n"
     ]
    }
   ],
   "source": [
    "list1 = [1, 2, 3, 4, 5]\n",
    "list2 = [3, 4, 5, 6, 7]\n",
    "common_ele = []\n",
    "for item1 in list1:\n",
    "    for item2 in list2:\n",
    "        if item1 == item2:\n",
    "            common_ele.append(item1)\n",
    "            \n",
    "print(common_ele)"
   ]
  },
  {
   "cell_type": "markdown",
   "id": "a2cf270c",
   "metadata": {},
   "source": [
    "Question 15 :- Explain how to use a for loop to iterate through the keys and values of a dictionary in Python."
   ]
  },
  {
   "cell_type": "code",
   "execution_count": 28,
   "id": "b4ee568e",
   "metadata": {},
   "outputs": [
    {
     "name": "stdout",
     "output_type": "stream",
     "text": [
      "key : name value : Anuj\n",
      "key : age value : 26\n",
      "key : city value : Amravati\n"
     ]
    }
   ],
   "source": [
    "dict = {\n",
    "    'name': 'Anuj',\n",
    "    'age': 26,\n",
    "    'city': 'Amravati'\n",
    "}\n",
    "for key, value in dict.items():\n",
    "    print(f\"key : {key} value : {value}\")"
   ]
  },
  {
   "cell_type": "markdown",
   "id": "e7ea26c2",
   "metadata": {},
   "source": [
    "Question 16 :- Write a Python program to find the GCD (Greatest Common Divisor) of two numbers using a for loop."
   ]
  },
  {
   "cell_type": "code",
   "execution_count": 29,
   "id": "a9475022",
   "metadata": {},
   "outputs": [
    {
     "name": "stdout",
     "output_type": "stream",
     "text": [
      "Enter the first number: 2\n",
      "Enter the second number: 4\n",
      "2\n"
     ]
    }
   ],
   "source": [
    "num1 = int(input(\"Enter the first number: \"))\n",
    "num2 = int(input(\"Enter the second number: \"))\n",
    "\n",
    "min_num = min(num1, num2)\n",
    "\n",
    "gcd = 1\n",
    "\n",
    "for i in range(1, min_num + 1):\n",
    "    if num1 % i == 0 and num2 % i == 0:\n",
    "        gcd = i\n",
    "\n",
    "print(gcd)"
   ]
  },
  {
   "cell_type": "markdown",
   "id": "e67f17c3",
   "metadata": {},
   "source": [
    "Question 17 :- Create a Python program that checks if a string is a palindrome using a for loop."
   ]
  },
  {
   "cell_type": "code",
   "execution_count": 31,
   "id": "17247bdc",
   "metadata": {},
   "outputs": [
    {
     "name": "stdout",
     "output_type": "stream",
     "text": [
      "Enter a string: mom\n",
      "The input string is a palindrome.\n"
     ]
    }
   ],
   "source": [
    "input_string = input(\"Enter a string: \")\n",
    "\n",
    "input_string = input_string.replace(\" \", \"\").lower()\n",
    "\n",
    "is_palindrome = True\n",
    "\n",
    "for i in range(len(input_string) // 2):\n",
    "    if input_string[i] != input_string[-i - 1]:\n",
    "        is_palindrome = False\n",
    "        break\n",
    "\n",
    "if is_palindrome:\n",
    "    print(\"The input string is a palindrome.\")\n",
    "else:\n",
    "    print(\"The input string is not a palindrome.\")"
   ]
  },
  {
   "cell_type": "markdown",
   "id": "7ef9683c",
   "metadata": {},
   "source": [
    "Question 18 :- Write a Python program to remove duplicates from a list using a for loop."
   ]
  },
  {
   "cell_type": "code",
   "execution_count": 32,
   "id": "de518084",
   "metadata": {},
   "outputs": [
    {
     "name": "stdout",
     "output_type": "stream",
     "text": [
      "[1, 2, 3, 4, 5, 6, 7]\n"
     ]
    }
   ],
   "source": [
    "original_list = [1, 2, 2, 3, 4, 4, 5, 6, 6, 7]\n",
    "list = []\n",
    "\n",
    "for i in original_list:\n",
    "    if i not in list:\n",
    "        list.append(i)\n",
    "        \n",
    "print(list)"
   ]
  },
  {
   "cell_type": "markdown",
   "id": "27b82709",
   "metadata": {},
   "source": [
    "Question 19 :- Create a Python program that counts the number of words in a sentence using a for loop."
   ]
  },
  {
   "cell_type": "code",
   "execution_count": 34,
   "id": "89369588",
   "metadata": {},
   "outputs": [
    {
     "name": "stdout",
     "output_type": "stream",
     "text": [
      "Enter a sentence: hello welcome to the PWSKILLS\n",
      "The number of words in the sentence is: 5\n"
     ]
    }
   ],
   "source": [
    "sentence = input(\"Enter a sentence: \")\n",
    "\n",
    "word_count = 0\n",
    "\n",
    "for char in sentence:\n",
    "    if char == \" \" or char == \".\" or char == \"!\" or char == \"?\" or char == \",\":\n",
    "        word_count += 1\n",
    "\n",
    "# Add 1 to the word count for the last word (no space or punctuation after it)\n",
    "word_count += 1\n",
    "\n",
    "print(\"The number of words in the sentence is:\", word_count)"
   ]
  },
  {
   "cell_type": "markdown",
   "id": "c744cf8d",
   "metadata": {},
   "source": [
    "Question 20 :- Write a Python program to find the sum of all odd numbers from 1 to 50 using a for loop."
   ]
  },
  {
   "cell_type": "code",
   "execution_count": 39,
   "id": "64bbf7a0",
   "metadata": {},
   "outputs": [
    {
     "name": "stdout",
     "output_type": "stream",
     "text": [
      "625\n"
     ]
    }
   ],
   "source": [
    "odd_sum = 0\n",
    "for i in range(1,51):\n",
    "    if i % 2 != 0:\n",
    "        odd_sum += i\n",
    "        \n",
    "print(odd_sum)"
   ]
  },
  {
   "cell_type": "markdown",
   "id": "64e070fd",
   "metadata": {},
   "source": [
    "Question 21 :- Write a Python program that checks if a given year is a leap year using a for loop."
   ]
  },
  {
   "cell_type": "code",
   "execution_count": 1,
   "id": "b7cf705a",
   "metadata": {},
   "outputs": [
    {
     "name": "stdout",
     "output_type": "stream",
     "text": [
      "Enter a year: 2023\n",
      "2023 is not a leap year.\n"
     ]
    }
   ],
   "source": [
    "year = int(input(\"Enter a year: \"))\n",
    "\n",
    "if (year % 4 == 0 and year % 100 != 0) or (year % 400 == 0):\n",
    "    print(f\"{year} is a leap year.\")\n",
    "else:\n",
    "    print(f\"{year} is not a leap year.\")"
   ]
  },
  {
   "cell_type": "markdown",
   "id": "f0c0ed30",
   "metadata": {},
   "source": [
    "Question 1 :- Write a Python program to check if a number is positive, negative, or zero using an if-else statement."
   ]
  },
  {
   "cell_type": "code",
   "execution_count": 2,
   "id": "674a2fec",
   "metadata": {},
   "outputs": [
    {
     "name": "stdout",
     "output_type": "stream",
     "text": [
      "Enter the number 4\n",
      "Number is positive\n"
     ]
    }
   ],
   "source": [
    "num = int(input(\"Enter the number \"))\n",
    "\n",
    "if num > 0:\n",
    "    print(\"Number is positive\")\n",
    "elif num < 0:\n",
    "    print(\"Number is negative \")\n",
    "else:\n",
    "    print(\"Number is zero\")"
   ]
  },
  {
   "cell_type": "markdown",
   "id": "719eb7a3",
   "metadata": {},
   "source": [
    "Question 2 :- Create a Python program that checks if a given number is even or odd using an if-else statement."
   ]
  },
  {
   "cell_type": "code",
   "execution_count": 4,
   "id": "cf40f3f2",
   "metadata": {},
   "outputs": [
    {
     "name": "stdout",
     "output_type": "stream",
     "text": [
      "Enter the number 4\n",
      "Number is even\n"
     ]
    }
   ],
   "source": [
    "num = int(input(\"Enter the number \"))\n",
    "\n",
    "if num % 2 == 0:\n",
    "    print(\"Number is even\")\n",
    "    \n",
    "else:\n",
    "    print(\"Number is odd\")"
   ]
  },
  {
   "cell_type": "markdown",
   "id": "31119d9c",
   "metadata": {},
   "source": [
    "Question 3 :- How can you use nested if-else statements in Python, and provide an example?"
   ]
  },
  {
   "cell_type": "markdown",
   "id": "668563d6",
   "metadata": {},
   "source": [
    "Nested if-else statements in Python allow you to have one if-else statement inside another. This is often used to create more complex conditional logic and handle multiple cases. "
   ]
  },
  {
   "cell_type": "code",
   "execution_count": 5,
   "id": "5f196bf4",
   "metadata": {},
   "outputs": [
    {
     "name": "stdout",
     "output_type": "stream",
     "text": [
      "Enter a number: 4\n",
      "The number is positive.\n",
      "The number is also even.\n"
     ]
    }
   ],
   "source": [
    "number = int(input(\"Enter a number: \"))\n",
    "\n",
    "if number > 0:\n",
    "    print(\"The number is positive.\")\n",
    "    if number % 2 == 0:\n",
    "        print(\"The number is also even.\")\n",
    "    else:\n",
    "        print(\"The number is not even.\")\n",
    "else:\n",
    "    if number == 0:\n",
    "        print(\"The number is zero.\")\n",
    "    else:\n",
    "        print(\"The number is negative.\")\n",
    "        if number % 2 == 0:\n",
    "            print(\"The number is also even.\")\n",
    "        else:\n",
    "            print(\"The number is not even.\")"
   ]
  },
  {
   "cell_type": "markdown",
   "id": "476c190a",
   "metadata": {},
   "source": [
    "Question 4 :- Write a Python program to determine the largest of three numbers using if-else."
   ]
  },
  {
   "cell_type": "code",
   "execution_count": 6,
   "id": "8734bfd5",
   "metadata": {},
   "outputs": [
    {
     "name": "stdout",
     "output_type": "stream",
     "text": [
      "Enter the first number: 2\n",
      "Enter the second number: 4\n",
      "Enter the third number: 6\n",
      "The largest number is: 6.0\n"
     ]
    }
   ],
   "source": [
    "num1 = float(input(\"Enter the first number: \"))\n",
    "num2 = float(input(\"Enter the second number: \"))\n",
    "num3 = float(input(\"Enter the third number: \"))\n",
    "\n",
    "if num1 >= num2 and num1 >= num3:\n",
    "    largest = num1\n",
    "elif num2 >= num1 and num2 >= num3:\n",
    "    largest = num2\n",
    "else:\n",
    "    largest = num3\n",
    "\n",
    "print(f\"The largest number is: {largest}\")"
   ]
  },
  {
   "cell_type": "markdown",
   "id": "2f377fb0",
   "metadata": {},
   "source": [
    "Question 5 :- Write a Python program that calculates the absolute value of a number using if-else."
   ]
  },
  {
   "cell_type": "code",
   "execution_count": 7,
   "id": "dab8ba39",
   "metadata": {},
   "outputs": [
    {
     "name": "stdout",
     "output_type": "stream",
     "text": [
      "Enter a number: 8\n",
      "The absolute value of 8.0 is: 8.0\n"
     ]
    }
   ],
   "source": [
    "number = float(input(\"Enter a number: \"))\n",
    "\n",
    "if number < 0:\n",
    "    absolute_value = -number\n",
    "else:\n",
    "    absolute_value = number\n",
    "\n",
    "print(f\"The absolute value of {number} is: {absolute_value}\")"
   ]
  },
  {
   "cell_type": "markdown",
   "id": "d0a5f093",
   "metadata": {},
   "source": [
    "Question 6 :- Create a Python program that checks if a given character is a vowel or consonant using if-else."
   ]
  },
  {
   "cell_type": "code",
   "execution_count": 10,
   "id": "5a4d5aea",
   "metadata": {},
   "outputs": [
    {
     "name": "stdout",
     "output_type": "stream",
     "text": [
      "Enter a character: a\n",
      "The character a is a vowel.\n"
     ]
    }
   ],
   "source": [
    "char = input(\"Enter a character: \")\n",
    "\n",
    "char = char.lower()\n",
    "\n",
    "if char.isalpha() and len(char) == 1:\n",
    "    if char in \"aeiou\":\n",
    "        print(f\"The character {char} is a vowel.\")\n",
    "    else:\n",
    "        print(f\"The character {char} is a consonant.\")\n",
    "else:\n",
    "    print(\"Please enter a single alphabet character.\")"
   ]
  },
  {
   "cell_type": "markdown",
   "id": "3db3dac0",
   "metadata": {},
   "source": [
    "Question 7 :- Write a Python program to determine if a user is eligible to vote based on their age using if-else."
   ]
  },
  {
   "cell_type": "code",
   "execution_count": 11,
   "id": "28fdd141",
   "metadata": {},
   "outputs": [
    {
     "name": "stdout",
     "output_type": "stream",
     "text": [
      "Enter your age: 20\n",
      "You are eligible to vote.\n"
     ]
    }
   ],
   "source": [
    "age = int(input(\"Enter your age: \"))\n",
    "\n",
    "if age >= 18:\n",
    "    print(\"You are eligible to vote.\")\n",
    "else:\n",
    "    print(\"You are not eligible to vote.\")"
   ]
  },
  {
   "cell_type": "markdown",
   "id": "ab6861c9",
   "metadata": {},
   "source": [
    "Question 8 :- Create a Python program that calculates the discount amount based on the purchase amount using if-else."
   ]
  },
  {
   "cell_type": "code",
   "execution_count": 12,
   "id": "8b03247e",
   "metadata": {},
   "outputs": [
    {
     "name": "stdout",
     "output_type": "stream",
     "text": [
      "Enter the purchase amount: 80\n",
      "Discount Amount: $4.00\n",
      "Final Amount after Discount: $76.00\n"
     ]
    }
   ],
   "source": [
    "purchase_amount = float(input(\"Enter the purchase amount: \"))\n",
    "\n",
    "discount = 0\n",
    "\n",
    "if purchase_amount >= 100:\n",
    "    discount = 0.1 * purchase_amount  # 10% discount for purchases >= $100\n",
    "elif purchase_amount >= 50:\n",
    "    discount = 0.05 * purchase_amount  # 5% discount for purchases >= $50\n",
    "else:\n",
    "    discount = 0  # No discount for purchases < $50\n",
    "\n",
    "final_amount = purchase_amount - discount\n",
    "print(f\"Discount Amount: ${discount:.2f}\")\n",
    "print(f\"Final Amount after Discount: ${final_amount:.2f}\")"
   ]
  },
  {
   "cell_type": "markdown",
   "id": "f4278823",
   "metadata": {},
   "source": [
    "Question 9 :- Write a Python program to check if a number is within a specified range using if-else."
   ]
  },
  {
   "cell_type": "code",
   "execution_count": 14,
   "id": "f1e9fbe0",
   "metadata": {},
   "outputs": [
    {
     "name": "stdout",
     "output_type": "stream",
     "text": [
      "Enter a number: 40\n",
      "The number 40 is within the range [10, 50].\n"
     ]
    }
   ],
   "source": [
    "lower_limit = 10\n",
    "upper_limit = 50\n",
    "\n",
    "number = int(input(\"Enter a number: \"))\n",
    "\n",
    "\n",
    "if number >= lower_limit and number <= upper_limit:\n",
    "    print(f\"The number {number} is within the range [{lower_limit}, {upper_limit}].\")\n",
    "else:\n",
    "    print(f\"The number {number} is not within the range [{lower_limit}, {upper_limit}].\")"
   ]
  },
  {
   "cell_type": "markdown",
   "id": "30987661",
   "metadata": {},
   "source": [
    "Question 10 :- Create a Python program that determines the grade of a student based on their score using if-else."
   ]
  },
  {
   "cell_type": "code",
   "execution_count": 15,
   "id": "06401946",
   "metadata": {},
   "outputs": [
    {
     "name": "stdout",
     "output_type": "stream",
     "text": [
      "Enter the student's score: 80\n",
      "The student's grade is: B\n"
     ]
    }
   ],
   "source": [
    "score = float(input(\"Enter the student's score: \"))\n",
    "\n",
    "if score >= 90:\n",
    "    grade = \"A\"\n",
    "elif score >= 80:\n",
    "    grade = \"B\"\n",
    "elif score >= 70:\n",
    "    grade = \"C\"\n",
    "elif score >= 60:\n",
    "    grade = \"D\"\n",
    "else:\n",
    "    grade = \"F\"\n",
    "\n",
    "print(f\"The student's grade is: {grade}\")"
   ]
  },
  {
   "cell_type": "markdown",
   "id": "d3b753a3",
   "metadata": {},
   "source": [
    "Question 11 :- Write a Python program to check if a string is empty or not using if-else."
   ]
  },
  {
   "cell_type": "code",
   "execution_count": 18,
   "id": "ec7c2be6",
   "metadata": {},
   "outputs": [
    {
     "name": "stdout",
     "output_type": "stream",
     "text": [
      "Enter a string: \n",
      "The string is empty.\n"
     ]
    }
   ],
   "source": [
    "input_string = input(\"Enter a string: \")\n",
    "\n",
    "if not input_string:\n",
    "    print(\"The string is empty.\")\n",
    "else:\n",
    "    print(\"The string is not empty.\")"
   ]
  },
  {
   "cell_type": "markdown",
   "id": "8d1320b3",
   "metadata": {},
   "source": [
    "Question 12 :- Create a Python program that identifies the type of a triangle (e.g., equilateral, isosceles, or scalene) based on input values using if-else."
   ]
  },
  {
   "cell_type": "code",
   "execution_count": 19,
   "id": "80d2b239",
   "metadata": {},
   "outputs": [
    {
     "name": "stdout",
     "output_type": "stream",
     "text": [
      "Enter the length of side 1: 12\n",
      "Enter the length of side 2: 22\n",
      "Enter the length of side 3: 22\n",
      "The triangle is a Isosceles triangle.\n"
     ]
    }
   ],
   "source": [
    "side1 = float(input(\"Enter the length of side 1: \"))\n",
    "side2 = float(input(\"Enter the length of side 2: \"))\n",
    "side3 = float(input(\"Enter the length of side 3: \"))\n",
    "\n",
    "if side1 == side2 == side3:\n",
    "    triangle_type = \"Equilateral\"\n",
    "elif side1 == side2 or side1 == side3 or side2 == side3:\n",
    "    triangle_type = \"Isosceles\"\n",
    "else:\n",
    "    triangle_type = \"Scalene\"\n",
    "\n",
    "print(f\"The triangle is a {triangle_type} triangle.\")"
   ]
  },
  {
   "cell_type": "markdown",
   "id": "2b92455a",
   "metadata": {},
   "source": [
    "Question 13 :- Write a Python program to determine the day of the week based on a user-provided number using if-else."
   ]
  },
  {
   "cell_type": "code",
   "execution_count": 20,
   "id": "cda7e5e9",
   "metadata": {},
   "outputs": [
    {
     "name": "stdout",
     "output_type": "stream",
     "text": [
      "Enter a number (1-7) to represent the day of the week: 7\n",
      "The day of the week is: Saturday\n"
     ]
    }
   ],
   "source": [
    "day_number = int(input(\"Enter a number (1-7) to represent the day of the week: \"))\n",
    "\n",
    "if day_number == 1:\n",
    "    day = \"Sunday\"\n",
    "elif day_number == 2:\n",
    "    day = \"Monday\"\n",
    "elif day_number == 3:\n",
    "    day = \"Tuesday\"\n",
    "elif day_number == 4:\n",
    "    day = \"Wednesday\"\n",
    "elif day_number == 5:\n",
    "    day = \"Thursday\"\n",
    "elif day_number == 6:\n",
    "    day = \"Friday\"\n",
    "elif day_number == 7:\n",
    "    day = \"Saturday\"\n",
    "else:\n",
    "    day = \"Invalid\"\n",
    "\n",
    "print(f\"The day of the week is: {day}\")"
   ]
  },
  {
   "cell_type": "markdown",
   "id": "2c3ccc98",
   "metadata": {},
   "source": [
    "Question 14 :- Create a Python program that checks if a given year is a leap year using both if-else and a function."
   ]
  },
  {
   "cell_type": "code",
   "execution_count": 1,
   "id": "fb5eef6f",
   "metadata": {},
   "outputs": [
    {
     "name": "stdout",
     "output_type": "stream",
     "text": [
      "Enter a year: 2023\n",
      "2023 is not a leap year.\n"
     ]
    }
   ],
   "source": [
    "def is_leap_year(year):\n",
    "    if (year % 4 == 0 and year % 100 != 0) or (year % 400 == 0):\n",
    "        return True\n",
    "    else:\n",
    "        return False\n",
    "\n",
    "# Input: Get the year from the user\n",
    "year = int(input(\"Enter a year: \"))\n",
    "\n",
    "# Check if the year is a leap year using the function\n",
    "if is_leap_year(year):\n",
    "    print(f\"{year} is a leap year.\")\n",
    "else:\n",
    "    print(f\"{year} is not a leap year.\")"
   ]
  },
  {
   "cell_type": "markdown",
   "id": "2235ccd5",
   "metadata": {},
   "source": [
    "Question 15 :- How do you use the \"assert\" statement in Python to add debugging checks within if-else blocks?\n",
    "\n",
    "The assert statement in Python is a debugging aid that tests a condition. If the condition is True, the program continues to execute without any issue. However, if the condition is False, an AssertionError is raised, and the program stops executing."
   ]
  },
  {
   "cell_type": "code",
   "execution_count": 3,
   "id": "2f3c71ce",
   "metadata": {},
   "outputs": [
    {
     "name": "stdout",
     "output_type": "stream",
     "text": [
      "The result is: 2.0\n"
     ]
    }
   ],
   "source": [
    "x = 10\n",
    "y = 5\n",
    "\n",
    "# Check if y is not zero before dividing\n",
    "if y != 0:\n",
    "    result = x / y\n",
    "else:\n",
    "    result = None\n",
    "\n",
    "# Using assert to add a debugging check\n",
    "assert y != 0, \"Division by zero is not allowed\"\n",
    "\n",
    "# The program continues if the assertion is True\n",
    "result = x / y\n",
    "print(f\"The result is: {result}\")"
   ]
  },
  {
   "cell_type": "markdown",
   "id": "2d57bb71",
   "metadata": {},
   "source": [
    "Question 16 :- Create a Python program that determines the eligibility of a person for a senior citizen discount based on age using if-else."
   ]
  },
  {
   "cell_type": "code",
   "execution_count": 4,
   "id": "03cbc935",
   "metadata": {},
   "outputs": [
    {
     "name": "stdout",
     "output_type": "stream",
     "text": [
      "Enter your age: 64\n",
      "You are not eligible for a senior citizen discount.\n"
     ]
    }
   ],
   "source": [
    "age = int(input(\"Enter your age: \"))\n",
    "\n",
    "if age >= 65:\n",
    "    print(\"You are eligible for a senior citizen discount.\")\n",
    "else:\n",
    "    print(\"You are not eligible for a senior citizen discount.\")"
   ]
  },
  {
   "cell_type": "markdown",
   "id": "c33da403",
   "metadata": {},
   "source": [
    "Question 17 :- Write a Python program to categorize a given character as uppercase, lowercase, or neither using if-else."
   ]
  },
  {
   "cell_type": "code",
   "execution_count": 5,
   "id": "fc53c488",
   "metadata": {},
   "outputs": [
    {
     "name": "stdout",
     "output_type": "stream",
     "text": [
      "Enter a character: ehduwhe\n",
      "The character 'ehduwhe' is Lowercase.\n"
     ]
    }
   ],
   "source": [
    "char = input(\"Enter a character: \")\n",
    "\n",
    "if char.isalpha():\n",
    "    if char.islower():\n",
    "        category = \"Lowercase\"\n",
    "    elif char.isupper():\n",
    "        category = \"Uppercase\"\n",
    "else:\n",
    "    category = \"Neither\"\n",
    "\n",
    "print(f\"The character '{char}' is {category}.\")"
   ]
  },
  {
   "cell_type": "markdown",
   "id": "17410cfb",
   "metadata": {},
   "source": [
    "Question 18 :- Write a Python program to determine the roots of a quadratic equation using if-else."
   ]
  },
  {
   "cell_type": "code",
   "execution_count": 7,
   "id": "d3c53c20",
   "metadata": {},
   "outputs": [
    {
     "name": "stdout",
     "output_type": "stream",
     "text": [
      "Enter the coefficient a: 2\n",
      "Enter the coefficient b: 3\n",
      "Enter the coefficient c: 1\n",
      "The equation has two real and distinct roots: -0.5 and -1.0\n"
     ]
    }
   ],
   "source": [
    "a = float(input(\"Enter the coefficient a: \"))\n",
    "b = float(input(\"Enter the coefficient b: \"))\n",
    "c = float(input(\"Enter the coefficient c: \"))\n",
    "\n",
    "D = b**2 - 4 * a * c\n",
    "\n",
    "if D > 0:\n",
    "    root1 = (-b + (D**0.5)) / (2 * a)\n",
    "    root2 = (-b - (D**0.5)) / (2 * a)\n",
    "    print(f\"The equation has two real and distinct roots: {root1} and {root2}\")\n",
    "elif D == 0:\n",
    "    root = -b / (2 * a)\n",
    "    print(f\"The equation has one real root: {root}\")\n",
    "else:\n",
    "    real_part = -b / (2 * a)\n",
    "    imaginary_part = (abs(D)**0.5) / (2 * a)\n",
    "    print(f\"The equation has two complex roots: {real_part} + {imaginary_part}i and {real_part} - {imaginary_part}i\")"
   ]
  },
  {
   "cell_type": "markdown",
   "id": "fc159435",
   "metadata": {},
   "source": [
    "Question 19 :- Create a Python program that checks if a given year is a century year or not using if-else."
   ]
  },
  {
   "cell_type": "code",
   "execution_count": 8,
   "id": "06f55fcf",
   "metadata": {},
   "outputs": [
    {
     "name": "stdout",
     "output_type": "stream",
     "text": [
      "Enter a year: 2023\n",
      "2023 is not a century year.\n"
     ]
    }
   ],
   "source": [
    "year = int(input(\"Enter a year: \"))\n",
    "\n",
    "if year % 100 == 0:\n",
    "    print(f\"{year} is a century year.\")\n",
    "else:\n",
    "    print(f\"{year} is not a century year.\")"
   ]
  },
  {
   "cell_type": "markdown",
   "id": "e60f2ebe",
   "metadata": {},
   "source": [
    "Question 20 :- Write a Python program to determine if a given number is a perfect square using if-else."
   ]
  },
  {
   "cell_type": "code",
   "execution_count": 9,
   "id": "208e25f5",
   "metadata": {},
   "outputs": [
    {
     "name": "stdout",
     "output_type": "stream",
     "text": [
      "Enter a number: 22\n",
      "22 is not a perfect square.\n"
     ]
    }
   ],
   "source": [
    "number = int(input(\"Enter a number: \"))\n",
    "\n",
    "if number > 0:\n",
    "    sqrt = number**0.5\n",
    "    if int(sqrt)**2 == number:\n",
    "        print(f\"{number} is a perfect square.\")\n",
    "    else:\n",
    "        print(f\"{number} is not a perfect square.\")\n",
    "else:\n",
    "    print(\"Please enter a positive number.\")"
   ]
  },
  {
   "cell_type": "markdown",
   "id": "da67abfa",
   "metadata": {},
   "source": [
    "Question 21 :- Explain the purpose of the \"continue\" and \"break\" statements within if-else loops.\n",
    "\n",
    "Continue Statement:\n",
    "\n",
    "The \"continue\" statement is used to skip the rest of the current iteration of a loop and move to the next iteration.\n",
    "When \"continue\" is encountered, the code below it in the current iteration is skipped, and the loop control moves to the next iteration.\n",
    "\n",
    "Break Statement:\n",
    "\n",
    "The \"break\" statement is used to exit a loop prematurely, stopping further iterations, even if the loop's condition is not met.\n",
    "When \"break\" is encountered, the loop is terminated, and control moves to the statement immediately following the loop."
   ]
  },
  {
   "cell_type": "code",
   "execution_count": 11,
   "id": "1c7765f8",
   "metadata": {},
   "outputs": [
    {
     "name": "stdout",
     "output_type": "stream",
     "text": [
      "Current iteration: 1\n",
      "Current iteration: 2\n",
      "Current iteration: 4\n",
      "Current iteration: 5\n",
      "Current value of n: 0\n",
      "Current value of n: 1\n",
      "Current value of n: 2\n"
     ]
    }
   ],
   "source": [
    "for i in range(1, 6):\n",
    "    if i == 3:\n",
    "        continue  # Skip iteration 3\n",
    "    print(f\"Current iteration: {i}\")\n",
    "    \n",
    "n = 0\n",
    "while n < 5:\n",
    "    if n == 3:\n",
    "        break  # Exit the loop when n is 3\n",
    "    print(f\"Current value of n: {n}\")\n",
    "    n += 1"
   ]
  },
  {
   "cell_type": "markdown",
   "id": "0ddc2f45",
   "metadata": {},
   "source": [
    "Question 22 :- Create a Python program that calculates the BMI (Body Mass Index) of a person based on their weight and height using if-else."
   ]
  },
  {
   "cell_type": "code",
   "execution_count": 12,
   "id": "e3184ec8",
   "metadata": {},
   "outputs": [
    {
     "name": "stdout",
     "output_type": "stream",
     "text": [
      "Enter your weight in kilograms: 88\n",
      "Enter your height in meters: 4\n",
      "Your BMI is: 5.50\n",
      "You are categorized as: Underweight\n"
     ]
    }
   ],
   "source": [
    "weight = float(input(\"Enter your weight in kilograms: \"))\n",
    "height = float(input(\"Enter your height in meters: \"))\n",
    "\n",
    "# Calculate the BMI\n",
    "bmi = weight / (height ** 2)\n",
    "\n",
    "# Determine the BMI category\n",
    "if bmi < 18.5:\n",
    "    category = \"Underweight\"\n",
    "elif 18.5 <= bmi < 24.9:\n",
    "    category = \"Normal Weight\"\n",
    "elif 24.9 <= bmi < 29.9:\n",
    "    category = \"Overweight\"\n",
    "else:\n",
    "    category = \"Obese\"\n",
    "\n",
    "# Display the BMI and category\n",
    "print(f\"Your BMI is: {bmi:.2f}\")\n",
    "print(f\"You are categorized as: {category}\")"
   ]
  },
  {
   "cell_type": "markdown",
   "id": "6caacfc4",
   "metadata": {},
   "source": [
    "Question 23 :- How can you use the \"filter()\" function with if-else statements to filter elements from a list?"
   ]
  },
  {
   "cell_type": "code",
   "execution_count": 13,
   "id": "7d21f869",
   "metadata": {},
   "outputs": [
    {
     "name": "stdout",
     "output_type": "stream",
     "text": [
      "Even numbers: [2, 4, 6, 8, 10]\n"
     ]
    }
   ],
   "source": [
    "is_even = lambda x: x % 2 == 0\n",
    "\n",
    "# Create a list of numbers\n",
    "numbers = [1, 2, 3, 4, 5, 6, 7, 8, 9, 10]\n",
    "\n",
    "# Use filter() to filter even numbers\n",
    "filtered_numbers = list(filter(is_even, numbers))\n",
    "\n",
    "# Display the filtered numbers\n",
    "print(\"Even numbers:\", filtered_numbers)"
   ]
  },
  {
   "cell_type": "markdown",
   "id": "343dc6dd",
   "metadata": {},
   "source": [
    "Question 24 :- Write a Python program to determine if a given number is prime or not using if-else."
   ]
  },
  {
   "cell_type": "code",
   "execution_count": 15,
   "id": "13c99893",
   "metadata": {},
   "outputs": [
    {
     "name": "stdout",
     "output_type": "stream",
     "text": [
      "Enter a number: 6\n",
      "6 is not a prime number.\n"
     ]
    }
   ],
   "source": [
    "num = int(input(\"Enter a number: \"))\n",
    "\n",
    "if num <= 1:\n",
    "    is_prime = False\n",
    "else:\n",
    "    is_prime = True\n",
    "    for i in range(2, int(num**0.5) + 1):\n",
    "        if num % i == 0:\n",
    "            is_prime = False\n",
    "            break\n",
    "\n",
    "if is_prime:\n",
    "    print(f\"{num} is a prime number.\")\n",
    "else:\n",
    "    print(f\"{num} is not a prime number.\")"
   ]
  },
  {
   "cell_type": "markdown",
   "id": "47f30265",
   "metadata": {},
   "source": [
    "Question 1 :- Explain the purpose of the `map()` function in Python and provide an example of how it can be used to apply a function to each element of an iterable.\n",
    "\n",
    "The map() function in Python is used to apply a specified function to each element in an iterable (e.g., a list) and returns a new iterable containing the results. It is a powerful and concise way to transform data in an iterable by applying the same function to each element. "
   ]
  },
  {
   "cell_type": "code",
   "execution_count": 1,
   "id": "c0bdba4d",
   "metadata": {},
   "outputs": [
    {
     "name": "stdout",
     "output_type": "stream",
     "text": [
      "[1, 4, 9, 16, 25]\n"
     ]
    }
   ],
   "source": [
    "def square(x):\n",
    "    return x ** 2\n",
    "\n",
    "numbers = [1, 2, 3, 4, 5]\n",
    "\n",
    "squared_numbers = map(square, numbers)\n",
    "\n",
    "# Converting the map object to a list to access the results\n",
    "squared_numbers_list = list(squared_numbers)\n",
    "\n",
    "print(squared_numbers_list)"
   ]
  },
  {
   "cell_type": "markdown",
   "id": "e06c5801",
   "metadata": {},
   "source": [
    "Question 2 :- Write a Python program that uses the `map()` function to square each element of a list of numbers."
   ]
  },
  {
   "cell_type": "code",
   "execution_count": 2,
   "id": "bcb8dccb",
   "metadata": {},
   "outputs": [
    {
     "name": "stdout",
     "output_type": "stream",
     "text": [
      "[4, 16, 36, 64]\n"
     ]
    }
   ],
   "source": [
    "def square(x):\n",
    "    return x ** 2\n",
    "\n",
    "numbers = [2, 4, 6, 8]\n",
    "\n",
    "squared_numbers = map(square, numbers)\n",
    "\n",
    "# Converting the map object to a list to access the results\n",
    "squared_numbers_list = list(squared_numbers)\n",
    "\n",
    "print(squared_numbers_list)"
   ]
  },
  {
   "cell_type": "markdown",
   "id": "423fd770",
   "metadata": {},
   "source": [
    "Question 3 :- How does the `map()` function differ from a list comprehension in Python, and when would you choose one over the other?\n",
    "\n",
    "map():\n",
    "map(function, iterable) is a built-in function that takes a function and an iterable as arguments.\n",
    "It returns a map object (an iterable) containing the results.\n",
    "You usually need to convert the map object to a list or another iterable data structure to access the results.\n",
    "Useful when you have an existing function that performs the transformation.\n",
    "Suitable when you want to apply the same transformation to multiple iterables.\n",
    "List Comprehension:\n",
    "List comprehension uses a concise and expressive syntax to create a new list.\n",
    "It uses square brackets [...] to enclose the expression, and you can specify the transformation and filtering criteria in a single line.\n",
    "Ideal for simple, one-off transformations and filtering tasks.\n",
    "Convenient for creating new lists from existing ones.\n",
    "\n"
   ]
  },
  {
   "cell_type": "markdown",
   "id": "f40283f5",
   "metadata": {},
   "source": [
    "Question 4 :- Create a Python program that uses the `map()` function to convert a list of names to uppercase."
   ]
  },
  {
   "cell_type": "code",
   "execution_count": 12,
   "id": "63323e13",
   "metadata": {},
   "outputs": [
    {
     "name": "stdout",
     "output_type": "stream",
     "text": [
      "['ANUJ', 'ADITYA', 'NITISH']\n"
     ]
    }
   ],
   "source": [
    "def Uppercase(x):\n",
    "    return x.upper()\n",
    "\n",
    "list_of_names = ['anuj','aditya','nitish']\n",
    "\n",
    "a = map(Uppercase, list_of_names)\n",
    "\n",
    "updated_list = list(a)\n",
    "\n",
    "print(updated_list)"
   ]
  },
  {
   "cell_type": "markdown",
   "id": "4765ca5f",
   "metadata": {},
   "source": [
    "Question 5 :- Write a Python program that uses the `map()` function to calculate the length of each word in a list of strings."
   ]
  },
  {
   "cell_type": "code",
   "execution_count": 17,
   "id": "8c1b15b6",
   "metadata": {},
   "outputs": [
    {
     "name": "stdout",
     "output_type": "stream",
     "text": [
      "[4, 6, 6]\n"
     ]
    }
   ],
   "source": [
    "def find_length(item):\n",
    "    return len(item)\n",
    "\n",
    "name = ['anuj','aditya','nitish']\n",
    "\n",
    "b = list(map(find_length, name))\n",
    "\n",
    "print(b)"
   ]
  },
  {
   "cell_type": "markdown",
   "id": "7b6d8fae",
   "metadata": {},
   "source": [
    "Question 6 :- How can you use the `map()` function to apply a custom function to elements of multiple lists simultaneously in Python?\n",
    "\n",
    "we can use the map() function to apply a custom function to elements of multiple lists simultaneously by combining the lists using zip() and then mapping our custom function to the zipped result. "
   ]
  },
  {
   "cell_type": "code",
   "execution_count": 19,
   "id": "9925f2d0",
   "metadata": {},
   "outputs": [
    {
     "name": "stdout",
     "output_type": "stream",
     "text": [
      "[11, 22, 33, 44, 55]\n"
     ]
    }
   ],
   "source": [
    "def custom_function(x, y):\n",
    "    return x + y  # Perform any desired operation\n",
    "\n",
    "# Create two lists\n",
    "list1 = [1, 2, 3, 4, 5]\n",
    "list2 = [10, 20, 30, 40, 50]\n",
    "\n",
    "# Use zip to combine the lists element-wise\n",
    "zipped_lists = zip(list1, list2)\n",
    "\n",
    "# Using map() to apply the custom function to the zipped result\n",
    "result = list(map(lambda pair: custom_function(pair[0], pair[1]), zipped_lists))\n",
    "\n",
    "print(result)"
   ]
  },
  {
   "cell_type": "markdown",
   "id": "21889b88",
   "metadata": {},
   "source": [
    "Question 7 :- Create a Python program that uses `map()` to convert a list of temperatures from Celsius to Fahrenheit."
   ]
  },
  {
   "cell_type": "code",
   "execution_count": 20,
   "id": "c95aa33c",
   "metadata": {},
   "outputs": [
    {
     "name": "stdout",
     "output_type": "stream",
     "text": [
      "0°C is 32.0°F\n",
      "10°C is 50.0°F\n",
      "20°C is 68.0°F\n",
      "30°C is 86.0°F\n",
      "40°C is 104.0°F\n"
     ]
    }
   ],
   "source": [
    "def celsius_to_fahrenheit(celsius):\n",
    "    return (celsius * 9/5) + 32\n",
    "\n",
    "celsius_temperatures = [0, 10, 20, 30, 40]\n",
    "\n",
    "# Using map() to apply the celsius_to_fahrenheit function to each temperature in the list\n",
    "fahrenheit_temperatures = list(map(celsius_to_fahrenheit, celsius_temperatures))\n",
    "\n",
    "for celsius, fahrenheit in zip(celsius_temperatures, fahrenheit_temperatures):\n",
    "    print(f\"{celsius}°C is {fahrenheit}°F\")"
   ]
  },
  {
   "cell_type": "markdown",
   "id": "f31faf7f",
   "metadata": {},
   "source": [
    "Question 8 :- Write a Python program that uses the `map()` function to round each element of a list of floating-point numbers to the nearest integer."
   ]
  },
  {
   "cell_type": "code",
   "execution_count": 21,
   "id": "0cb9f6be",
   "metadata": {},
   "outputs": [
    {
     "name": "stdout",
     "output_type": "stream",
     "text": [
      "[3, 5, 6, 7, 7]\n"
     ]
    }
   ],
   "source": [
    "def round_to_integer(number):\n",
    "    return round(number)\n",
    "\n",
    "float_numbers = [3.2, 4.7, 5.5, 6.8, 7.3]\n",
    "\n",
    "rounded_numbers = list(map(round_to_integer, float_numbers))\n",
    "\n",
    "print(rounded_numbers)"
   ]
  },
  {
   "cell_type": "markdown",
   "id": "c2349639",
   "metadata": {},
   "source": [
    "Question 1 :- What is the `reduce()` function in Python, and what module should you import to use it? Provide an example of its basic usage.\n",
    "\n",
    "The reduce() function in Python is part of the functools module, and it is used for performing a rolling computation on a list of values.\n",
    "To use the reduce() function, you need to import it from the functools module."
   ]
  },
  {
   "cell_type": "code",
   "execution_count": 23,
   "id": "e2e3532c",
   "metadata": {},
   "outputs": [
    {
     "name": "stdout",
     "output_type": "stream",
     "text": [
      "Product: 120\n"
     ]
    }
   ],
   "source": [
    "from functools import reduce\n",
    "\n",
    "numbers = [1, 2, 3, 4, 5]\n",
    "\n",
    "def multiply(x, y):\n",
    "    return x * y\n",
    "\n",
    "# Use reduce to find the product of all elements in the list\n",
    "product = reduce(multiply, numbers)\n",
    "\n",
    "print(\"Product:\", product)"
   ]
  },
  {
   "cell_type": "markdown",
   "id": "443b400b",
   "metadata": {},
   "source": [
    "Question 2 :- Write a Python program that uses the `reduce()` function to find the product of all elements in a list."
   ]
  },
  {
   "cell_type": "code",
   "execution_count": 24,
   "id": "a5a588ec",
   "metadata": {},
   "outputs": [
    {
     "name": "stdout",
     "output_type": "stream",
     "text": [
      "120\n"
     ]
    }
   ],
   "source": [
    "from functools import reduce\n",
    "\n",
    "a = [1, 2, 3, 4, 5]\n",
    "\n",
    "def mul(x, y):\n",
    "    return x * y\n",
    "\n",
    "result = reduce(mul, a)\n",
    "\n",
    "print(result)"
   ]
  },
  {
   "cell_type": "markdown",
   "id": "9c4cc75f",
   "metadata": {},
   "source": [
    "Question 3 :- Create a Python program that uses `reduce()` to find the maximum element in a list of numbers."
   ]
  },
  {
   "cell_type": "code",
   "execution_count": 26,
   "id": "54a689f1",
   "metadata": {},
   "outputs": [
    {
     "name": "stdout",
     "output_type": "stream",
     "text": [
      "5\n"
     ]
    }
   ],
   "source": [
    "from functools import reduce\n",
    "\n",
    "a = [1, 2, 3, 4, 5]\n",
    "\n",
    "def maximum_num(x, y):\n",
    "    return x if x > y else y\n",
    "\n",
    "maximum = reduce(maximum_num, a)\n",
    "\n",
    "print(maximum)"
   ]
  },
  {
   "cell_type": "markdown",
   "id": "b00de719",
   "metadata": {},
   "source": [
    "Question 4 :- How can you use the `reduce()` function to concatenate a list of strings into a single string?"
   ]
  },
  {
   "cell_type": "code",
   "execution_count": 27,
   "id": "9eb93f9e",
   "metadata": {},
   "outputs": [
    {
     "name": "stdout",
     "output_type": "stream",
     "text": [
      "Concatenated string: Hello world! Python\n"
     ]
    }
   ],
   "source": [
    "from functools import reduce\n",
    "\n",
    "strings = [\"Hello\", \" \", \"world\", \"!\", \" \", \"Python\"]\n",
    "\n",
    "def concatenate_strings(x, y):\n",
    "    return x + y\n",
    "\n",
    "result = reduce(concatenate_strings, strings)\n",
    "\n",
    "print(\"Concatenated string:\", result)"
   ]
  },
  {
   "cell_type": "markdown",
   "id": "dfb8bdd4",
   "metadata": {},
   "source": [
    "Question 5 :- Write a Python program that calculates the factorial of a number using the `reduce()` function."
   ]
  },
  {
   "cell_type": "code",
   "execution_count": 28,
   "id": "4c0b855d",
   "metadata": {},
   "outputs": [
    {
     "name": "stdout",
     "output_type": "stream",
     "text": [
      "Enter a non-negative integer: 5\n",
      "5! = 120\n"
     ]
    }
   ],
   "source": [
    "from functools import reduce\n",
    "\n",
    "def multiply(x, y):\n",
    "    return x * y\n",
    "\n",
    "def factorial(n):\n",
    "    if n < 0:\n",
    "        return \"Factorial is not defined for negative numbers.\"\n",
    "    elif n == 0:\n",
    "        return 1\n",
    "    else:\n",
    "        # Use reduce to calculate the factorial\n",
    "        result = reduce(multiply, range(1, n + 1))\n",
    "        return result\n",
    "\n",
    "n = int(input(\"Enter a non-negative integer: \"))\n",
    "\n",
    "fact = factorial(n)\n",
    "print(f\"{n}! =\", fact)"
   ]
  },
  {
   "cell_type": "markdown",
   "id": "b42903e3",
   "metadata": {},
   "source": [
    "Question 6 :- Create a Python program that uses `reduce()` to find the GCD (Greatest Common Divisor) of a list of numbers."
   ]
  },
  {
   "cell_type": "code",
   "execution_count": 29,
   "id": "c089ff74",
   "metadata": {},
   "outputs": [
    {
     "name": "stdout",
     "output_type": "stream",
     "text": [
      "GCD: 6\n"
     ]
    }
   ],
   "source": [
    "from functools import reduce\n",
    "import math\n",
    "\n",
    "numbers = [12, 18, 24, 36, 48]\n",
    "\n",
    "def find_gcd(x, y):\n",
    "    return math.gcd(x, y)\n",
    "\n",
    "gcd = reduce(find_gcd, numbers)\n",
    "\n",
    "print(\"GCD:\", gcd)"
   ]
  },
  {
   "cell_type": "markdown",
   "id": "0f2ed2b4",
   "metadata": {},
   "source": [
    "Question 7 :- Write a Python program that uses the `reduce()` function to find the sum of the digits of a given number."
   ]
  },
  {
   "cell_type": "code",
   "execution_count": 31,
   "id": "5b794d81",
   "metadata": {},
   "outputs": [
    {
     "name": "stdout",
     "output_type": "stream",
     "text": [
      "Enter a number: 88\n",
      "Sum of the digits: 16\n"
     ]
    }
   ],
   "source": [
    "from functools import reduce\n",
    "\n",
    "def add(x, y):\n",
    "    return int(x) + int(y)\n",
    "\n",
    "def sum_of_digits(number):\n",
    "    number_str = str(number)\n",
    "    \n",
    "    result = reduce(add, number_str)\n",
    "    \n",
    "    return result\n",
    "\n",
    "number = int(input(\"Enter a number: \"))\n",
    "\n",
    "digit_sum = sum_of_digits(number)\n",
    "print(\"Sum of the digits:\", digit_sum)"
   ]
  },
  {
   "cell_type": "markdown",
   "id": "d2d4ebe3",
   "metadata": {},
   "source": [
    "Question 1 :- Explain the purpose of the `filter()` function in Python and provide an example of how it can be used to filter elements from an iterable.\n",
    "\n",
    "The filter() function in Python is used to filter elements from an iterable based on a specified function (predicate). It creates a new iterable that contains only the elements for which the given function returns True."
   ]
  },
  {
   "cell_type": "code",
   "execution_count": 32,
   "id": "e87e36ca",
   "metadata": {},
   "outputs": [
    {
     "name": "stdout",
     "output_type": "stream",
     "text": [
      "Even numbers: [2, 4, 6, 8, 10]\n"
     ]
    }
   ],
   "source": [
    "numbers = [1, 2, 3, 4, 5, 6, 7, 8, 9, 10]\n",
    "\n",
    "def is_even(x):\n",
    "    return x % 2 == 0\n",
    "\n",
    "even_numbers = list(filter(is_even, numbers))\n",
    "\n",
    "print(\"Even numbers:\", even_numbers)"
   ]
  },
  {
   "cell_type": "markdown",
   "id": "34f49154",
   "metadata": {},
   "source": [
    "Question 2 :- Write a Python program that uses the `filter()` function to select even numbers from a list of integers."
   ]
  },
  {
   "cell_type": "code",
   "execution_count": 33,
   "id": "96ba9e59",
   "metadata": {},
   "outputs": [
    {
     "name": "stdout",
     "output_type": "stream",
     "text": [
      "Even numbers: [2, 4, 6, 8, 10]\n"
     ]
    }
   ],
   "source": [
    "numbers = [1, 2, 3, 4, 5, 6, 7, 8, 9, 10]\n",
    "\n",
    "def is_even(x):\n",
    "    return x % 2 == 0\n",
    "\n",
    "even_numbers = list(filter(is_even, numbers))\n",
    "\n",
    "print(\"Even numbers:\", even_numbers)"
   ]
  },
  {
   "cell_type": "markdown",
   "id": "de1ac78c",
   "metadata": {},
   "source": [
    "Question 3 :- Create a Python program that uses the `filter()` function to select names that start with a specific letter from a list of strings."
   ]
  },
  {
   "cell_type": "code",
   "execution_count": 34,
   "id": "b01f0089",
   "metadata": {},
   "outputs": [
    {
     "name": "stdout",
     "output_type": "stream",
     "text": [
      "Names starting with 'D': ['David']\n"
     ]
    }
   ],
   "source": [
    "names = [\"Alice\", \"Bob\", \"Charlie\", \"David\", \"Eve\", \"Frank\"]\n",
    "\n",
    "specific_letter = \"D\"\n",
    "\n",
    "def starts_with_specific_letter(name):\n",
    "    return name.startswith(specific_letter)\n",
    "\n",
    "filtered_names = list(filter(starts_with_specific_letter, names))\n",
    "\n",
    "print(f\"Names starting with '{specific_letter}':\", filtered_names)"
   ]
  },
  {
   "cell_type": "markdown",
   "id": "e6a965ef",
   "metadata": {},
   "source": [
    "Question 4 :- Write a Python program that uses the `filter()` function to select prime numbers from a list of integers."
   ]
  },
  {
   "cell_type": "code",
   "execution_count": 35,
   "id": "bc3d26eb",
   "metadata": {},
   "outputs": [
    {
     "name": "stdout",
     "output_type": "stream",
     "text": [
      "Prime numbers: [2, 3, 5, 7, 11, 13, 17, 23]\n"
     ]
    }
   ],
   "source": [
    "numbers = [2, 3, 5, 7, 10, 11, 13, 17, 20, 23]\n",
    "\n",
    "def is_prime(n):\n",
    "    if n <= 1:\n",
    "        return False\n",
    "    if n <= 3:\n",
    "        return True\n",
    "    if n % 2 == 0 or n % 3 == 0:\n",
    "        return False\n",
    "    i = 5\n",
    "    while i * i <= n:\n",
    "        if n % i == 0 or n % (i + 2) == 0:\n",
    "            return False\n",
    "        i += 6\n",
    "    return True\n",
    "\n",
    "prime_numbers = list(filter(is_prime, numbers))\n",
    "\n",
    "print(\"Prime numbers:\", prime_numbers)"
   ]
  },
  {
   "cell_type": "markdown",
   "id": "aff2eaac",
   "metadata": {},
   "source": [
    "Question 5 :- How can you use the `filter()` function to remove None values from a list in Python?"
   ]
  },
  {
   "cell_type": "code",
   "execution_count": 36,
   "id": "4e36621c",
   "metadata": {},
   "outputs": [
    {
     "name": "stdout",
     "output_type": "stream",
     "text": [
      "Filtered list: [1, 3, 5, 6, 8]\n"
     ]
    }
   ],
   "source": [
    "my_list = [1, None, 3, None, 5, 6, None, 8, None]\n",
    "\n",
    "def is_not_none(x):\n",
    "    return x is not None\n",
    "\n",
    "filtered_list = list(filter(is_not_none, my_list))\n",
    "\n",
    "print(\"Filtered list:\", filtered_list)"
   ]
  },
  {
   "cell_type": "markdown",
   "id": "b0974eef",
   "metadata": {},
   "source": [
    "Question 6 :- Create a Python program that uses `filter()` to select words longer than a certain length from a list of strings."
   ]
  },
  {
   "cell_type": "code",
   "execution_count": 37,
   "id": "98877ecd",
   "metadata": {},
   "outputs": [
    {
     "name": "stdout",
     "output_type": "stream",
     "text": [
      "Words longer than 5 characters: ['banana', 'cherry']\n"
     ]
    }
   ],
   "source": [
    "words = [\"apple\", \"banana\", \"cherry\", \"date\", \"fig\", \"grape\"]\n",
    "\n",
    "min_length = 5\n",
    "\n",
    "def is_long_word(word):\n",
    "    return len(word) > min_length\n",
    "\n",
    "selected_words = list(filter(is_long_word, words))\n",
    "\n",
    "print(f\"Words longer than {min_length} characters:\", selected_words)"
   ]
  },
  {
   "cell_type": "markdown",
   "id": "bf0c0a52",
   "metadata": {},
   "source": [
    "Question 7 :- Write a Python program that uses the `filter()` function to select elements greater than a specified threshold from a list of values."
   ]
  },
  {
   "cell_type": "code",
   "execution_count": 39,
   "id": "7b513840",
   "metadata": {},
   "outputs": [
    {
     "name": "stdout",
     "output_type": "stream",
     "text": [
      "Values greater than 20: [25, 30, 40, 21]\n"
     ]
    }
   ],
   "source": [
    "values = [12, 25, 5, 30, 8, 18, 40, 3, 21]\n",
    "\n",
    "threshold = 20\n",
    "\n",
    "def is_greater_than_threshold(value):\n",
    "    return value > threshold\n",
    "\n",
    "selected_values = list(filter(is_greater_than_threshold, values))\n",
    "\n",
    "print(f\"Values greater than {threshold}:\", selected_values)"
   ]
  },
  {
   "cell_type": "markdown",
   "id": "74fb6d11",
   "metadata": {},
   "source": [
    "Question 1 :- Explain the concept of recursion in Python. How does it differ from iteration?\n",
    "\n",
    "Recursion and iteration are both methods of solving problems in programming, but they differ in their approach to solving problems and controlling program flow.\n",
    "\n",
    "Recursion is a programming technique where a function calls itself to solve a smaller instance of the same problem. In a recursive function, the problem is broken down into simpler, identical subproblems until a base case is reached, which provides a direct solution without further recursion. The base case is crucial to prevent infinite recursion. Recursion is based on the idea of dividing a problem into smaller, more manageable parts."
   ]
  },
  {
   "cell_type": "code",
   "execution_count": 41,
   "id": "0a1afa0c",
   "metadata": {},
   "outputs": [
    {
     "data": {
      "text/plain": [
       "24"
      ]
     },
     "execution_count": 41,
     "metadata": {},
     "output_type": "execute_result"
    }
   ],
   "source": [
    "def factorial(n):\n",
    "    if n == 0:\n",
    "        return 1\n",
    "    else:\n",
    "        return n * factorial(n - 1)\n",
    "    \n",
    "factorial(4)"
   ]
  },
  {
   "cell_type": "markdown",
   "id": "f9294b3d",
   "metadata": {},
   "source": [
    "Question 2 :- Write a Python program to calculate the factorial of a number using recursion."
   ]
  },
  {
   "cell_type": "code",
   "execution_count": 43,
   "id": "5a0195c2",
   "metadata": {},
   "outputs": [
    {
     "data": {
      "text/plain": [
       "720"
      ]
     },
     "execution_count": 43,
     "metadata": {},
     "output_type": "execute_result"
    }
   ],
   "source": [
    "def factorial(n):\n",
    "    if n == 0:\n",
    "        return 1\n",
    "    else:\n",
    "        return n * factorial(n - 1)\n",
    "    \n",
    "factorial(6)"
   ]
  },
  {
   "cell_type": "markdown",
   "id": "d1aa48af",
   "metadata": {},
   "source": [
    "Question 3 :- Create a recursive Python function to find the nth Fibonacci number."
   ]
  },
  {
   "cell_type": "code",
   "execution_count": 44,
   "id": "249a3943",
   "metadata": {},
   "outputs": [
    {
     "name": "stdout",
     "output_type": "stream",
     "text": [
      "The 10th Fibonacci number is 55\n"
     ]
    }
   ],
   "source": [
    "def fibonacci(n):\n",
    "    if n <= 0:\n",
    "        return 0\n",
    "    elif n == 1:\n",
    "        return 1\n",
    "    else:\n",
    "        return fibonacci(n - 1) + fibonacci(n - 2)\n",
    "\n",
    "n = 10\n",
    "result = fibonacci(n)\n",
    "print(f\"The {n}th Fibonacci number is {result}\")"
   ]
  },
  {
   "cell_type": "markdown",
   "id": "f774fa04",
   "metadata": {},
   "source": [
    "Question 4 :- Write a recursive Python function to calculate the sum of all elements in a list."
   ]
  },
  {
   "cell_type": "code",
   "execution_count": 45,
   "id": "6bdaa401",
   "metadata": {},
   "outputs": [
    {
     "name": "stdout",
     "output_type": "stream",
     "text": [
      "The sum of all elements in the list is 15\n"
     ]
    }
   ],
   "source": [
    "def list_sum(lst):\n",
    "    if not lst:\n",
    "        return 0\n",
    "    else:\n",
    "        return lst[0] + list_sum(lst[1:])\n",
    "\n",
    "my_list = [1, 2, 3, 4, 5]\n",
    "result = list_sum(my_list)\n",
    "print(f\"The sum of all elements in the list is {result}\")"
   ]
  },
  {
   "cell_type": "markdown",
   "id": "6ed60d79",
   "metadata": {},
   "source": [
    "Question 5 :- How can you prevent a recursive function from running indefinitely, causing a stack overflow error?\n",
    "\n",
    "Base Case: Ensure that your recursive function has a well-defined base case. The base case is the condition under which the recursion stops and returns a result. Without a base case, the function will indeed run indefinitely.\n",
    "\n",
    "Recursive Progress: Make sure that with each recursive call, you are moving closer to the base case or reducing the problem size. If your function doesn't make progress, it will keep calling itself with the same arguments, leading to infinite recursion."
   ]
  },
  {
   "cell_type": "markdown",
   "id": "9599f460",
   "metadata": {},
   "source": [
    "Question 6 :- Create a recursive Python function to find the greatest common divisor (GCD) of two numbers using the Euclidean algorithm."
   ]
  },
  {
   "cell_type": "code",
   "execution_count": 46,
   "id": "3e3733df",
   "metadata": {},
   "outputs": [
    {
     "name": "stdout",
     "output_type": "stream",
     "text": [
      "The GCD of 48 and 18 is 6\n"
     ]
    }
   ],
   "source": [
    "def gcd(a, b):\n",
    "    if b == 0:\n",
    "        return a\n",
    "    else:\n",
    "        return gcd(b, a % b)\n",
    "\n",
    "num1 = 48\n",
    "num2 = 18\n",
    "result = gcd(num1, num2)\n",
    "print(f\"The GCD of {num1} and {num2} is {result}\")"
   ]
  },
  {
   "cell_type": "markdown",
   "id": "886362cb",
   "metadata": {},
   "source": [
    "Question 7 :- Write a recursive Python function to reverse a string."
   ]
  },
  {
   "cell_type": "code",
   "execution_count": 47,
   "id": "fa673c78",
   "metadata": {},
   "outputs": [
    {
     "name": "stdout",
     "output_type": "stream",
     "text": [
      "The reversed string is: !dlroW ,olleH\n"
     ]
    }
   ],
   "source": [
    "def reverse_string(input_str):\n",
    "    if len(input_str) == 0:\n",
    "        return input_str\n",
    "    else:\n",
    "        return reverse_string(input_str[1:]) + input_str[0]\n",
    "\n",
    "my_string = \"Hello, World!\"\n",
    "reversed_str = reverse_string(my_string)\n",
    "print(f\"The reversed string is: {reversed_str}\")"
   ]
  },
  {
   "cell_type": "markdown",
   "id": "ca520236",
   "metadata": {},
   "source": [
    "Question 8 :- Create a recursive Python function to calculate the power of a number (x^n)."
   ]
  },
  {
   "cell_type": "code",
   "execution_count": 48,
   "id": "c1026fe7",
   "metadata": {},
   "outputs": [
    {
     "name": "stdout",
     "output_type": "stream",
     "text": [
      "2^3 is 8\n"
     ]
    }
   ],
   "source": [
    "def power(x, n):\n",
    "    if n == 0:\n",
    "        return 1\n",
    "    elif n > 0:\n",
    "        return x * power(x, n - 1)\n",
    "    else:\n",
    "        return 1 / (x * power(x, -n - 1))\n",
    "\n",
    "x = 2\n",
    "n = 3\n",
    "result = power(x, n)\n",
    "print(f\"{x}^{n} is {result}\")"
   ]
  },
  {
   "cell_type": "markdown",
   "id": "c66c5ace",
   "metadata": {},
   "source": [
    "Question 9 :- Write a recursive Python function to find all permutations of a given string."
   ]
  },
  {
   "cell_type": "code",
   "execution_count": 50,
   "id": "56e1f56f",
   "metadata": {},
   "outputs": [
    {
     "name": "stdout",
     "output_type": "stream",
     "text": [
      "abc\n",
      "acb\n",
      "bac\n",
      "bca\n",
      "cab\n",
      "cba\n"
     ]
    }
   ],
   "source": [
    "def get_permutations(s):\n",
    "    if len(s) == 1:\n",
    "        return [s]\n",
    "\n",
    "    permutations = []\n",
    "    for i, char in enumerate(s):\n",
    "        remaining_chars = s[:i] + s[i + 1:]\n",
    "        sub_permutations = get_permutations(remaining_chars)\n",
    "\n",
    "        for sub_permutation in sub_permutations:\n",
    "            permutations.append(char + sub_permutation)\n",
    "\n",
    "    return permutations\n",
    "\n",
    "input_string = \"abc\"\n",
    "result = get_permutations(input_string)\n",
    "for perm in result:\n",
    "    print(perm)"
   ]
  },
  {
   "cell_type": "markdown",
   "id": "c6fcedd4",
   "metadata": {},
   "source": [
    "Question 10 :- Write a recursive Python function to check if a string is a palindrome."
   ]
  },
  {
   "cell_type": "code",
   "execution_count": 51,
   "id": "cdbe409e",
   "metadata": {},
   "outputs": [
    {
     "name": "stdout",
     "output_type": "stream",
     "text": [
      "'racecar' is a palindrome: True\n",
      "'hello' is a palindrome: False\n"
     ]
    }
   ],
   "source": [
    "def is_palindrome(s):\n",
    "    s = s.lower()  # Convert the string to lowercase for case-insensitive comparison\n",
    "    s = s.replace(\" \", \"\")  # Remove spaces to check palindromes with spaces\n",
    "\n",
    "    if len(s) <= 1:\n",
    "        return True\n",
    "    elif s[0] == s[-1]:\n",
    "        return is_palindrome(s[1:-1])\n",
    "    else:\n",
    "        return False\n",
    "\n",
    "string1 = \"racecar\"\n",
    "string2 = \"hello\"\n",
    "print(f\"'{string1}' is a palindrome: {is_palindrome(string1)}\")\n",
    "print(f\"'{string2}' is a palindrome: {is_palindrome(string2)}\")"
   ]
  },
  {
   "cell_type": "markdown",
   "id": "dfaba472",
   "metadata": {},
   "source": [
    "Question 11 :- Create a recursive Python function to generate all possible combinations of a list of elements."
   ]
  },
  {
   "cell_type": "code",
   "execution_count": 53,
   "id": "0a812b48",
   "metadata": {},
   "outputs": [
    {
     "name": "stdout",
     "output_type": "stream",
     "text": [
      "[2, 3]\n",
      "[1, 3]\n",
      "[1, 2]\n"
     ]
    }
   ],
   "source": [
    "def generate_combinations(elements, k):\n",
    "    if k == 0:\n",
    "        return [[]]\n",
    "    if len(elements) == 0:\n",
    "        return []\n",
    "\n",
    "    head, tail = elements[0], elements[1:]\n",
    "    \n",
    "    without_head = generate_combinations(tail, k)\n",
    "    with_head = generate_combinations(tail, k - 1)\n",
    "    \n",
    "    with_head = [[head] + combo for combo in with_head]\n",
    "    \n",
    "    return without_head + with_head\n",
    "\n",
    "elements = [1, 2, 3]\n",
    "k = 2\n",
    "combinations = generate_combinations(elements, k)\n",
    "for combo in combinations:\n",
    "    print(combo)"
   ]
  },
  {
   "cell_type": "markdown",
   "id": "6bda457b",
   "metadata": {},
   "source": [
    "Question 1 :- Explain the concepts of formal parameters and actual arguments in Python functions.\n",
    "\n",
    "In this case, 3 and 5 are actual arguments, and x and y are formal parameters.\n",
    "x is assigned the value 3, and y is assigned the value 5 within the function's local scope.\n",
    "The function computes the sum, and sum_result will be 8."
   ]
  },
  {
   "cell_type": "code",
   "execution_count": 56,
   "id": "93ebe96c",
   "metadata": {},
   "outputs": [
    {
     "name": "stdout",
     "output_type": "stream",
     "text": [
      "8\n"
     ]
    }
   ],
   "source": [
    "def add(x, y):\n",
    "    result = x + y\n",
    "    return result\n",
    "\n",
    "# Calling the function with actual arguments\n",
    "sum_result = add(3, 5)\n",
    "print(sum_result)"
   ]
  },
  {
   "cell_type": "markdown",
   "id": "e84fd93b",
   "metadata": {},
   "source": [
    "Question 2 :- Write a Python program that defines a function with default argument values."
   ]
  },
  {
   "cell_type": "code",
   "execution_count": 58,
   "id": "02532263",
   "metadata": {},
   "outputs": [
    {
     "name": "stdout",
     "output_type": "stream",
     "text": [
      "Hello, Guest!\n",
      "Hello, Alice!\n",
      "Hi, Bob!\n"
     ]
    }
   ],
   "source": [
    "def greet(name=\"Guest\", greeting=\"Hello\"):\n",
    "    \"\"\"\n",
    "    This function greets a person with a given greeting and name.\n",
    "    :param name: The name of the person to greet (default is \"Guest\").\n",
    "    :param greeting: The greeting to use (default is \"Hello\").\n",
    "    \"\"\"\n",
    "    print(f\"{greeting}, {name}!\")\n",
    "\n",
    "greet()  # Uses default values, so it greets \"Guest\" with \"Hello\"\n",
    "greet(\"Alice\")\n",
    "greet(\"Bob\", \"Hi\")"
   ]
  },
  {
   "cell_type": "markdown",
   "id": "1bdee239",
   "metadata": {},
   "source": [
    "Question 3 :- How do you use keyword arguments in Python function calls? Provide an example."
   ]
  },
  {
   "cell_type": "code",
   "execution_count": 59,
   "id": "d5f23e8c",
   "metadata": {},
   "outputs": [
    {
     "name": "stdout",
     "output_type": "stream",
     "text": [
      "Hi, Alice!\n",
      "Hello, Bob!\n"
     ]
    }
   ],
   "source": [
    "def greet(name, greeting):\n",
    "    print(f\"{greeting}, {name}!\")\n",
    "\n",
    "greet(name=\"Alice\", greeting=\"Hi\")\n",
    "greet(greeting=\"Hello\", name=\"Bob\")"
   ]
  },
  {
   "cell_type": "markdown",
   "id": "95f25b4c",
   "metadata": {},
   "source": [
    "Question 4 :- Create a Python function that accepts a variable number of arguments and calculates their sum."
   ]
  },
  {
   "cell_type": "code",
   "execution_count": 60,
   "id": "8b7957ff",
   "metadata": {},
   "outputs": [
    {
     "name": "stdout",
     "output_type": "stream",
     "text": [
      "The sum of the numbers is: 15\n"
     ]
    }
   ],
   "source": [
    "def calculate_sum(*args):\n",
    "    total = 0\n",
    "    for number in args:\n",
    "        total += number\n",
    "    return total\n",
    "\n",
    "result = calculate_sum(1, 2, 3, 4, 5)\n",
    "print(f\"The sum of the numbers is: {result}\")"
   ]
  },
  {
   "cell_type": "markdown",
   "id": "1fea0edb",
   "metadata": {},
   "source": [
    "Question 5 :- What is the purpose of the `*args` and `**kwargs` syntax in function parameter lists?\n",
    "\n",
    "The *args syntax is used to pass a variable number of non-keyword (positional) arguments to a function.\n",
    "It allows you to call a function with any number of positional arguments, and those arguments are collected into a tuple.\n",
    "\n",
    "The ** kwargs syntax is used to pass a variable number of keyword arguments to a function.\n",
    "It allows you to call a function with any number of keyword arguments, and those arguments are collected into a dictionary."
   ]
  },
  {
   "cell_type": "markdown",
   "id": "16bef781",
   "metadata": {},
   "source": [
    "Question 1 :- Describe the role of the `return` statement in Python functions and provide examples.\n",
    "\n",
    "The return statement in Python functions is used to specify what value the function should yield or produce as its result when it is called. It allows a function to compute a value or perform a task and then pass that value or result back to the caller. The return statement is an essential part of functions in Python because it determines the function's output."
   ]
  },
  {
   "cell_type": "markdown",
   "id": "d6e8591a",
   "metadata": {},
   "source": [
    "Question 2 :- Explain the concept of variable scope in Python, including local and global variables.\n",
    "\n",
    "Local variables are defined within a function or a code block and are only accessible from within that specific function or block.\n",
    "\n",
    "Global variables are defined in the main body of the program, outside of any function or block. They can be accessed and modified from any part of the code."
   ]
  },
  {
   "cell_type": "markdown",
   "id": "779e5523",
   "metadata": {},
   "source": [
    "Question 3 :- Write a Python program that demonstrates the use of global variables within functions."
   ]
  },
  {
   "cell_type": "code",
   "execution_count": 61,
   "id": "e7e2d276",
   "metadata": {},
   "outputs": [
    {
     "name": "stdout",
     "output_type": "stream",
     "text": [
      "20\n"
     ]
    }
   ],
   "source": [
    "x = 10\n",
    "\n",
    "def my_function():\n",
    "    global x\n",
    "    x = 20\n",
    "\n",
    "my_function()\n",
    "print(x)"
   ]
  },
  {
   "cell_type": "markdown",
   "id": "05da68dd",
   "metadata": {},
   "source": [
    "Question 4 :- Create a Python function that calculates the factorial of a number and returns it."
   ]
  },
  {
   "cell_type": "code",
   "execution_count": 62,
   "id": "2e0876f1",
   "metadata": {},
   "outputs": [
    {
     "name": "stdout",
     "output_type": "stream",
     "text": [
      "The factorial of 5 is 120\n"
     ]
    }
   ],
   "source": [
    "def factorial(n):\n",
    "    if n == 0:\n",
    "        return 1\n",
    "    else:\n",
    "        return n * factorial(n - 1)\n",
    "\n",
    "number = 5\n",
    "result = factorial(number)\n",
    "print(f\"The factorial of {number} is {result}\")"
   ]
  },
  {
   "cell_type": "markdown",
   "id": "496f7d69",
   "metadata": {},
   "source": [
    "Question 5 :- How can you access variables defined outside a function from within the function?"
   ]
  },
  {
   "cell_type": "code",
   "execution_count": 63,
   "id": "a8ff472c",
   "metadata": {},
   "outputs": [
    {
     "name": "stdout",
     "output_type": "stream",
     "text": [
      "10\n"
     ]
    }
   ],
   "source": [
    "x = 10\n",
    "\n",
    "def access_global():\n",
    "    print(x)\n",
    "\n",
    "access_global()"
   ]
  },
  {
   "cell_type": "markdown",
   "id": "89e49bdb",
   "metadata": {},
   "source": [
    "Question 1 :- What are lambda functions in Python, and when are they typically used?\n",
    "\n",
    "Lambda functions in Python, also known as anonymous functions or lambda expressions, are a way to create small, unnamed functions on the fly. They are typically used for short, simple operations that can be defined in a single line of code. Lambda functions are created using the lambda keyword, followed by the function's input arguments and an expression. The expression is evaluated and returned as the function's result."
   ]
  },
  {
   "cell_type": "markdown",
   "id": "aade566e",
   "metadata": {},
   "source": [
    "Question 2 :- Write a Python program that uses lambda functions to sort a list of tuples based on the second element."
   ]
  },
  {
   "cell_type": "code",
   "execution_count": 64,
   "id": "02272b92",
   "metadata": {},
   "outputs": [
    {
     "name": "stdout",
     "output_type": "stream",
     "text": [
      "(1, 'apple')\n",
      "(3, 'banana')\n",
      "(2, 'cherry')\n"
     ]
    }
   ],
   "source": [
    "data = [(1, 'apple'), (3, 'banana'), (2, 'cherry')]\n",
    "\n",
    "sorted_data = sorted(data, key=lambda x: x[1])\n",
    "\n",
    "for item in sorted_data:\n",
    "    print(item)"
   ]
  },
  {
   "cell_type": "markdown",
   "id": "5e477319",
   "metadata": {},
   "source": [
    "Question 3 :- Explain the concept of higher-order functions in Python, and provide an example.\n",
    "\n",
    "In Python, a higher-order function is a function that takes one or more functions as arguments or returns a function as its result. Essentially, a higher-order function treats functions as first-class citizens, allowing them to be manipulated and operated upon like any other data type, such as integers, strings, or lists."
   ]
  },
  {
   "cell_type": "code",
   "execution_count": 65,
   "id": "1922ece7",
   "metadata": {},
   "outputs": [
    {
     "name": "stdout",
     "output_type": "stream",
     "text": [
      "Addition result: 8\n",
      "Subtraction result: 2\n"
     ]
    }
   ],
   "source": [
    "def apply_operation(operation, x, y):\n",
    "    return operation(x, y)\n",
    "\n",
    "def add(a, b):\n",
    "    return a + b\n",
    "\n",
    "def subtract(a, b):\n",
    "    return a - b\n",
    "\n",
    "result1 = apply_operation(add, 5, 3)\n",
    "result2 = apply_operation(subtract, 5, 3)\n",
    "\n",
    "print(\"Addition result:\", result1)\n",
    "print(\"Subtraction result:\", result2)"
   ]
  },
  {
   "cell_type": "markdown",
   "id": "03c047f5",
   "metadata": {},
   "source": [
    "Question 4 :- Create a Python function that takes a list of numbers and a function as arguments, applying the function to each element in the list."
   ]
  },
  {
   "cell_type": "code",
   "execution_count": 66,
   "id": "05f81330",
   "metadata": {},
   "outputs": [
    {
     "name": "stdout",
     "output_type": "stream",
     "text": [
      "Original numbers: [1, 2, 3, 4, 5]\n",
      "Squared numbers: [1, 4, 9, 16, 25]\n",
      "Doubled numbers: [2, 4, 6, 8, 10]\n"
     ]
    }
   ],
   "source": [
    "def apply_function_to_list(numbers, func):\n",
    "    result = []\n",
    "    for num in numbers:\n",
    "        result.append(func(num))\n",
    "    return result\n",
    "\n",
    "def square(x):\n",
    "    return x ** 2\n",
    "\n",
    "def double(x):\n",
    "    return x * 2\n",
    "\n",
    "numbers = [1, 2, 3, 4, 5]\n",
    "squared_numbers = apply_function_to_list(numbers, square)\n",
    "doubled_numbers = apply_function_to_list(numbers, double)\n",
    "\n",
    "print(\"Original numbers:\", numbers)\n",
    "print(\"Squared numbers:\", squared_numbers)\n",
    "print(\"Doubled numbers:\", doubled_numbers)"
   ]
  },
  {
   "cell_type": "markdown",
   "id": "c3467f48",
   "metadata": {},
   "source": [
    "Question 1 :- Describe the role of built-in functions like `len()`, `max()`, and `min()` in Python.\n",
    "\n",
    "The len() function is used to determine the length or number of elements in an iterable object, such as a string, list, tuple, dictionary, or set.\n",
    "\n",
    "The max() function is used to find the maximum value within an iterable object. It can work with a variety of data types, including numbers, strings, and custom objects.\n",
    "\n",
    "The min() function is used to find the minimum value within an iterable object. Similar to max(), it can handle various data types."
   ]
  },
  {
   "cell_type": "code",
   "execution_count": 67,
   "id": "47059664",
   "metadata": {},
   "outputs": [
    {
     "name": "stdout",
     "output_type": "stream",
     "text": [
      "13 9 1\n"
     ]
    }
   ],
   "source": [
    "text = \"Hello, World!\"\n",
    "length = len(text)\n",
    "\n",
    "numbers = [3, 7, 1, 9, 4, 5]\n",
    "maximum = max(numbers)\n",
    "\n",
    "numbers = [3, 7, 1, 9, 4, 5]\n",
    "minimum = min(numbers)\n",
    "\n",
    "print(length, maximum, minimum)"
   ]
  },
  {
   "cell_type": "markdown",
   "id": "74b9fc7b",
   "metadata": {},
   "source": [
    "Question 2 :- Write a Python program that uses the `map()` function to apply a function to each element of a list."
   ]
  },
  {
   "cell_type": "code",
   "execution_count": 68,
   "id": "dd3e64ae",
   "metadata": {},
   "outputs": [
    {
     "name": "stdout",
     "output_type": "stream",
     "text": [
      "Original numbers: [1, 2, 3, 4, 5]\n",
      "Squared numbers: [1, 4, 9, 16, 25]\n"
     ]
    }
   ],
   "source": [
    "def square(x):\n",
    "    return x ** 2\n",
    "\n",
    "numbers = [1, 2, 3, 4, 5]\n",
    "\n",
    "squared_numbers = list(map(square, numbers))\n",
    "\n",
    "print(\"Original numbers:\", numbers)\n",
    "print(\"Squared numbers:\", squared_numbers)"
   ]
  },
  {
   "cell_type": "markdown",
   "id": "5caa99ba",
   "metadata": {},
   "source": [
    "Question 3 :- How does the `filter()` function work in Python, and when would you use it?\n",
    "\n",
    "The filter() function in Python is used to filter elements from an iterable (e.g., a list, tuple, or other iterable object) based on a specified condition or filtering function. It returns a new iterable containing only the elements that satisfy the given condition.\n",
    "\n",
    "Using this for filtering and cleaning Data"
   ]
  },
  {
   "cell_type": "markdown",
   "id": "78cde401",
   "metadata": {},
   "source": [
    "Question 4 :- Create a Python program that uses the `reduce()` function to find the product of all elements in a list."
   ]
  },
  {
   "cell_type": "code",
   "execution_count": 70,
   "id": "9292add8",
   "metadata": {},
   "outputs": [
    {
     "name": "stdout",
     "output_type": "stream",
     "text": [
      "Product of all numbers: 120\n"
     ]
    }
   ],
   "source": [
    "from functools import reduce\n",
    "\n",
    "def multiply(x, y):\n",
    "    return x * y\n",
    "\n",
    "numbers = [1, 2, 3, 4, 5]\n",
    "\n",
    "product = reduce(multiply, numbers)\n",
    "\n",
    "print(\"Product of all numbers:\", product)"
   ]
  },
  {
   "cell_type": "markdown",
   "id": "6bc27867",
   "metadata": {},
   "source": [
    "Question 1 :- Explain the purpose of docstrings in Python functions and how to write them.\n",
    "\n",
    "Docstrings in Python are used to provide documentation and information about functions, classes, methods, or modules. They serve as a way to describe the purpose, usage, and behavior of the code you've written.\n",
    "\n",
    "The main purposes of docstrings in Python functions are:\n",
    "1.Documentation\n",
    "2.Help Messages "
   ]
  },
  {
   "cell_type": "code",
   "execution_count": 71,
   "id": "eeb77edd",
   "metadata": {},
   "outputs": [],
   "source": [
    "def calculate_sum(a, b):\n",
    "    \"\"\"\n",
    "    Calculate the sum of two numbers.\n",
    "\n",
    "    Args:\n",
    "        a (int): The first number.\n",
    "        b (int): The second number.\n",
    "\n",
    "    Returns:\n",
    "        int: The sum of the two input numbers.\n",
    "\n",
    "    Example:\n",
    "        >>> calculate_sum(2, 3)\n",
    "        5\n",
    "\n",
    "    Note:\n",
    "        This function works only with integers.\n",
    "    \"\"\"\n",
    "    return a + b"
   ]
  },
  {
   "cell_type": "markdown",
   "id": "25b8de9a",
   "metadata": {},
   "source": [
    "Question 2 :- Describe some best practices for naming functions and variables in Python, including naming conventions and guidelines.\n",
    "\n",
    "Naming functions and variables in Python according to best practices is crucial for writing clean, readable, and maintainable code.\n",
    "\n",
    "1.Use Descriptive Names\n",
    "2.Use Lowercase for Function and Variable Names\n",
    "3.Use Uppercase for Constants\n",
    "4.Be Concise but Not Too Abbreviated"
   ]
  },
  {
   "cell_type": "code",
   "execution_count": null,
   "id": "312d3e1f",
   "metadata": {},
   "outputs": [],
   "source": []
  }
 ],
 "metadata": {
  "kernelspec": {
   "display_name": "Python 3 (ipykernel)",
   "language": "python",
   "name": "python3"
  },
  "language_info": {
   "codemirror_mode": {
    "name": "ipython",
    "version": 3
   },
   "file_extension": ".py",
   "mimetype": "text/x-python",
   "name": "python",
   "nbconvert_exporter": "python",
   "pygments_lexer": "ipython3",
   "version": "3.11.3"
  }
 },
 "nbformat": 4,
 "nbformat_minor": 5
}
